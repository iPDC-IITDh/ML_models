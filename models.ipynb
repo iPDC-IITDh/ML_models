{
 "cells": [
  {
   "attachments": {},
   "cell_type": "markdown",
   "id": "31c6e2f2",
   "metadata": {},
   "source": [
    "### Importing all necessary packages\n"
   ]
  },
  {
   "cell_type": "code",
   "execution_count": 36,
   "id": "5f661c6c",
   "metadata": {},
   "outputs": [],
   "source": [
    "#import glob\n",
    "#import sys\n",
    "#import audiofile\n",
    "#import time\n",
    "import pandas as pd\n",
    "import os\n",
    "import sklearn.mixture\n",
    "import numpy as np"
   ]
  },
  {
   "cell_type": "code",
   "execution_count": 37,
   "id": "fc6b48cf",
   "metadata": {},
   "outputs": [],
   "source": [
    "from sklearn.svm import SVC\n",
    "from sklearn.preprocessing import StandardScaler\n",
    "from sklearn.datasets import make_classification\n",
    "from sklearn.model_selection import train_test_split\n",
    "from sklearn.pipeline import Pipeline\n",
    "from sklearn.svm import LinearSVC\n",
    "from sklearn.ensemble import RandomForestClassifier\n",
    "from sklearn.decomposition import PCA\n",
    "from sklearn.tree import DecisionTreeClassifier\n",
    "from sklearn.ensemble import ExtraTreesClassifier\n",
    "from sklearn.feature_selection import SelectFromModel\n",
    "from sklearn.metrics import accuracy_score\n",
    "from sklearn.metrics import classification_report\n",
    "from sklearn.manifold import TSNE\n",
    "from sklearn.svm import SVC\n",
    "from sklearn.linear_model import LogisticRegression"
   ]
  },
  {
   "cell_type": "code",
   "execution_count": 38,
   "id": "799ca22c",
   "metadata": {},
   "outputs": [],
   "source": [
    "import csv\n",
    "rows = []\n",
    "with open(\"./EVEN-ATTCK-DT-1.csv\", 'r') as file:\n",
    "    csvreader = csv.reader(file)\n",
    "    # header = next(csvreader)\n",
    "    for row in csvreader:\n",
    "        rows.append(row)\n",
    "# print(header)\n",
    "# print(rows)\n",
    "\n",
    "x = []\n",
    "y = []\n",
    "\n",
    "for i in rows:\n",
    "    a = float(i[0])\n",
    "    b = float(i[1])\n",
    "    c = float(i[2])\n",
    "    d = float(i[3])\n",
    "    e = int(i[4])\n",
    "    x.append([a,b,c,d])\n",
    "    y.append(e)\n",
    "\n",
    "X_train, X_test, y_train, y_test = train_test_split(x, y, test_size=0.2, shuffle=True, random_state=0)\n",
    "\n",
    "# print(X_train)\n",
    "# print(y_train)\n"
   ]
  },
  {
   "attachments": {},
   "cell_type": "markdown",
   "id": "193b5358",
   "metadata": {},
   "source": [
    "### Random Forest\n"
   ]
  },
  {
   "cell_type": "code",
   "execution_count": 39,
   "id": "0c6e30cd",
   "metadata": {},
   "outputs": [
    {
     "name": "stdout",
     "output_type": "stream",
     "text": [
      "[Pipeline] ............... (step 1 of 2) Processing std, total=   0.0s\n",
      "[Pipeline] ..... (step 2 of 2) Processing Random_forest, total=   1.1s\n",
      "\n",
      "Accuracy: 0.9871309613928841\n",
      "\n",
      "----------------Classification Report----------------\n",
      "\n",
      "               precision    recall  f1-score   support\n",
      "\n",
      "           0       0.99      1.00      0.99      2231\n",
      "           1       0.98      0.93      0.96       411\n",
      "\n",
      "    accuracy                           0.99      2642\n",
      "   macro avg       0.99      0.97      0.98      2642\n",
      "weighted avg       0.99      0.99      0.99      2642\n",
      "\n"
     ]
    }
   ],
   "source": [
    "pipe1 = Pipeline([ ('std', StandardScaler()), ('Random_forest', RandomForestClassifier(n_estimators = 100))], verbose = True)\n",
    "pipe1.fit(X_train, y_train)\n",
    "prob_score_RF=pipe1.predict_proba(X_test)\n",
    "print(\"\\nAccuracy:\",accuracy_score(y_test, pipe1.predict(X_test)))\n",
    "print(\"\\n----------------Classification Report----------------\\n\\n\",classification_report(y_test,pipe1.predict(X_test)))\n"
   ]
  },
  {
   "attachments": {},
   "cell_type": "markdown",
   "id": "d6f5fccc",
   "metadata": {},
   "source": [
    "#### Confusion Matrix for Random Forest\n"
   ]
  },
  {
   "cell_type": "code",
   "execution_count": 40,
   "id": "c6ba6a63",
   "metadata": {},
   "outputs": [
    {
     "name": "stdout",
     "output_type": "stream",
     "text": [
      "[[2224    7]\n",
      " [  27  384]]\n"
     ]
    }
   ],
   "source": [
    "print(sklearn.metrics.confusion_matrix(y_test, pipe1.predict(X_test)))"
   ]
  },
  {
   "attachments": {},
   "cell_type": "markdown",
   "id": "787e36fc",
   "metadata": {},
   "source": [
    "### Decision tree\n"
   ]
  },
  {
   "cell_type": "code",
   "execution_count": 41,
   "id": "e822fde2",
   "metadata": {},
   "outputs": [
    {
     "name": "stdout",
     "output_type": "stream",
     "text": [
      "[Pipeline] ............... (step 1 of 2) Processing std, total=   0.0s\n",
      "[Pipeline] ..... (step 2 of 2) Processing decision_tree, total=   0.0s\n",
      "\n",
      "Accuracy: 0.9825889477668432\n",
      "\n",
      "----------------Classification Report----------------\n",
      "\n",
      "               precision    recall  f1-score   support\n",
      "\n",
      "           0       0.99      0.99      0.99      2231\n",
      "           1       0.96      0.93      0.94       411\n",
      "\n",
      "    accuracy                           0.98      2642\n",
      "   macro avg       0.97      0.96      0.97      2642\n",
      "weighted avg       0.98      0.98      0.98      2642\n",
      "\n"
     ]
    }
   ],
   "source": [
    "pipe2 = Pipeline([ ('std', StandardScaler()), ('decision_tree', DecisionTreeClassifier())], verbose = True)\n",
    "pipe2.fit(X_train, y_train)\n",
    "prob_score_DT=pipe2.predict_proba(X_test)\n",
    "print(\"\\nAccuracy:\",accuracy_score(y_test, pipe2.predict(X_test)))\n",
    "print(\"\\n----------------Classification Report----------------\\n\\n\",classification_report(y_test,pipe2.predict(X_test)))"
   ]
  },
  {
   "attachments": {},
   "cell_type": "markdown",
   "id": "16f6c5d2",
   "metadata": {},
   "source": [
    "#### Confusion Matrix for Decision Tree\n"
   ]
  },
  {
   "cell_type": "code",
   "execution_count": 42,
   "id": "0ac37fdd",
   "metadata": {},
   "outputs": [
    {
     "name": "stdout",
     "output_type": "stream",
     "text": [
      "[[2215   16]\n",
      " [  30  381]]\n"
     ]
    }
   ],
   "source": [
    "print(sklearn.metrics.confusion_matrix(y_test, pipe2.predict(X_test)))"
   ]
  },
  {
   "attachments": {},
   "cell_type": "markdown",
   "id": "d55092cd",
   "metadata": {},
   "source": [
    "### SVM (Support Vector Machine)\n"
   ]
  },
  {
   "cell_type": "code",
   "execution_count": 43,
   "id": "c70bf876",
   "metadata": {},
   "outputs": [
    {
     "name": "stdout",
     "output_type": "stream",
     "text": [
      "[Pipeline] ............... (step 1 of 2) Processing std, total=   0.0s\n",
      "[Pipeline] ............... (step 2 of 2) Processing SVM, total=   1.5s\n",
      "\n",
      "Accuracy: 0.9663133989401969\n",
      "\n",
      "----------------Classification Report----------------\n",
      "\n",
      "               precision    recall  f1-score   support\n",
      "\n",
      "           0       0.98      0.98      0.98      2231\n",
      "           1       0.91      0.87      0.89       411\n",
      "\n",
      "    accuracy                           0.97      2642\n",
      "   macro avg       0.94      0.93      0.93      2642\n",
      "weighted avg       0.97      0.97      0.97      2642\n",
      "\n"
     ]
    }
   ],
   "source": [
    "pipe4 = Pipeline([ ('std', StandardScaler()), ('SVM', SVC(kernel='linear',probability=True) )], verbose = True)\n",
    "pipe4.fit(X_train, y_train)\n",
    "prob_score_SVM=pipe4.predict_proba(X_test)\n",
    "print(\"\\nAccuracy:\",accuracy_score(y_test, pipe4.predict(X_test)))\n",
    "print(\"\\n----------------Classification Report----------------\\n\\n\",classification_report(y_test,pipe4.predict(X_test)))"
   ]
  },
  {
   "attachments": {},
   "cell_type": "markdown",
   "id": "08bc05cb",
   "metadata": {},
   "source": [
    "#### Confusion matrix for SVM\n"
   ]
  },
  {
   "cell_type": "code",
   "execution_count": 44,
   "id": "1f0ad333",
   "metadata": {},
   "outputs": [
    {
     "name": "stdout",
     "output_type": "stream",
     "text": [
      "[[2194   37]\n",
      " [  52  359]]\n"
     ]
    }
   ],
   "source": [
    "print(sklearn.metrics.confusion_matrix(y_test, pipe4.predict(X_test)))"
   ]
  },
  {
   "attachments": {},
   "cell_type": "markdown",
   "id": "1e3418e9",
   "metadata": {},
   "source": [
    "### Logistic regression\n"
   ]
  },
  {
   "cell_type": "code",
   "execution_count": 45,
   "id": "19ca2ce6",
   "metadata": {},
   "outputs": [
    {
     "name": "stdout",
     "output_type": "stream",
     "text": [
      "[Pipeline] ............... (step 1 of 2) Processing std, total=   0.0s\n",
      "[Pipeline]  (step 2 of 2) Processing Logistic_Regression, total=   0.0s\n",
      "\n",
      "Accuracy: 0.9651778955336866\n",
      "\n",
      "----------------Classification Report----------------\n",
      "\n",
      "               precision    recall  f1-score   support\n",
      "\n",
      "           0       0.98      0.98      0.98      2231\n",
      "           1       0.91      0.86      0.89       411\n",
      "\n",
      "    accuracy                           0.97      2642\n",
      "   macro avg       0.94      0.92      0.93      2642\n",
      "weighted avg       0.96      0.97      0.96      2642\n",
      "\n"
     ]
    }
   ],
   "source": [
    "pipe5 = Pipeline([ ('std', StandardScaler()), ('Logistic_Regression', LogisticRegression(random_state = 0) )], verbose = True)\n",
    "pipe5.fit(X_train, y_train)\n",
    "prob_score_LR=pipe5.predict_proba(X_test)\n",
    "print(\"\\nAccuracy:\",accuracy_score(y_test, pipe5.predict(X_test)))\n",
    "print(\"\\n----------------Classification Report----------------\\n\\n\",classification_report(y_test,pipe5.predict(X_test)))"
   ]
  },
  {
   "attachments": {},
   "cell_type": "markdown",
   "id": "10f4db2d",
   "metadata": {},
   "source": [
    "#### Confusion matrix for Logistic regression\n"
   ]
  },
  {
   "cell_type": "code",
   "execution_count": 46,
   "id": "09faf51a",
   "metadata": {},
   "outputs": [
    {
     "name": "stdout",
     "output_type": "stream",
     "text": [
      "[[2195   36]\n",
      " [  56  355]]\n"
     ]
    }
   ],
   "source": [
    "print(sklearn.metrics.confusion_matrix(y_test, pipe5.predict(X_test)))"
   ]
  }
 ],
 "metadata": {
  "kernelspec": {
   "display_name": "Python 3",
   "language": "python",
   "name": "python3"
  },
  "language_info": {
   "codemirror_mode": {
    "name": "ipython",
    "version": 3
   },
   "file_extension": ".py",
   "mimetype": "text/x-python",
   "name": "python",
   "nbconvert_exporter": "python",
   "pygments_lexer": "ipython3",
   "version": "3.10.6"
  },
  "vscode": {
   "interpreter": {
    "hash": "916dbcbb3f70747c44a77c7bcd40155683ae19c65e1c03b4aa3499c5328201f1"
   }
  }
 },
 "nbformat": 4,
 "nbformat_minor": 5
}
