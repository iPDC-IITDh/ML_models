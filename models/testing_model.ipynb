{
 "cells": [
  {
   "cell_type": "code",
   "execution_count": 1,
   "metadata": {},
   "outputs": [],
   "source": [
    "import pickle\n",
    "correct_data = [[-95.0310743232,134161.730967817,144.6209026086,202.1741503424,24.7951722724,201.0948560874,50.0033798218,-0.0014368678,97.1672668457,11.7199020386]]\n",
    "wrong_data = [[-106.79673404338052,134178.87839460734,172.30595900709102,201.74303304189772,12.907951242933958,201.67851490812342,50.00347049261338,-0.0022273429394054807,97.13682621832879,11.756140557239803]]"
   ]
  },
  {
   "attachments": {},
   "cell_type": "markdown",
   "metadata": {},
   "source": [
    "## Random Forest"
   ]
  },
  {
   "cell_type": "code",
   "execution_count": 2,
   "metadata": {},
   "outputs": [
    {
     "name": "stdout",
     "output_type": "stream",
     "text": [
      "Testing on correct data\n",
      "[0]\n",
      "Testing on wrong data\n",
      "[1]\n",
      "Probability of correct data\n",
      "[[1. 0.]]\n",
      "Probability of wrong data\n",
      "[[0. 1.]]\n"
     ]
    }
   ],
   "source": [
    "Load_RF_Model = pickle.load(open('RF.sav', 'rb'))\n",
    "print(\"Testing on correct data\")\n",
    "print(Load_RF_Model.predict(correct_data))\n",
    "print(\"Testing on wrong data\")\n",
    "print(Load_RF_Model.predict(wrong_data))\n",
    "print(\"Probability of correct data\")\n",
    "RF_pred_probability = Load_RF_Model.predict_proba(correct_data)\n",
    "print(RF_pred_probability)\n",
    "print(\"Probability of wrong data\")\n",
    "RF_pred_probability = Load_RF_Model.predict_proba(wrong_data)\n",
    "print(RF_pred_probability)\n"
   ]
  },
  {
   "attachments": {},
   "cell_type": "markdown",
   "metadata": {},
   "source": [
    "## Decision Tree"
   ]
  },
  {
   "cell_type": "code",
   "execution_count": 3,
   "metadata": {},
   "outputs": [
    {
     "name": "stdout",
     "output_type": "stream",
     "text": [
      "Testing on correct data\n",
      "[0]\n",
      "Testing on wrong data\n",
      "[1]\n",
      "Probability of correct data\n",
      "[[1. 0.]]\n",
      "Probability of wrong data\n",
      "[[0. 1.]]\n"
     ]
    }
   ],
   "source": [
    "Load_DT_Model = pickle.load(open('DT.sav', 'rb'))\n",
    "print(\"Testing on correct data\")\n",
    "print(Load_DT_Model.predict(correct_data))\n",
    "print(\"Testing on wrong data\")\n",
    "print(Load_DT_Model.predict(wrong_data))\n",
    "print(\"Probability of correct data\")\n",
    "DT_pred_probability = Load_DT_Model.predict_proba(correct_data)\n",
    "print(DT_pred_probability)\n",
    "print(\"Probability of wrong data\")\n",
    "DT_pred_probability = Load_DT_Model.predict_proba(wrong_data)\n",
    "print(DT_pred_probability)"
   ]
  },
  {
   "attachments": {},
   "cell_type": "markdown",
   "metadata": {},
   "source": [
    "## Logistic Regression"
   ]
  },
  {
   "cell_type": "code",
   "execution_count": 4,
   "metadata": {},
   "outputs": [
    {
     "name": "stdout",
     "output_type": "stream",
     "text": [
      "Testing on correct data\n",
      "[0]\n",
      "Testing on wrong data\n",
      "[0]\n",
      "Probability of correct data\n",
      "[[0.50347189 0.49652811]]\n",
      "Probability of wrong data\n",
      "[[0.50899715 0.49100285]]\n"
     ]
    }
   ],
   "source": [
    "Load_LR_Model = pickle.load(open('LR.sav', 'rb'))\n",
    "print(\"Testing on correct data\")\n",
    "print(Load_LR_Model.predict(correct_data))\n",
    "print(\"Testing on wrong data\")\n",
    "print(Load_LR_Model.predict(wrong_data))\n",
    "print(\"Probability of correct data\")\n",
    "LR_pred_probability = Load_LR_Model.predict_proba(correct_data)\n",
    "print(LR_pred_probability)\n",
    "print(\"Probability of wrong data\")\n",
    "LR_pred_probability = Load_LR_Model.predict_proba(wrong_data)\n",
    "print(LR_pred_probability)"
   ]
  },
  {
   "attachments": {},
   "cell_type": "markdown",
   "metadata": {},
   "source": [
    "## Support Vector Machine"
   ]
  },
  {
   "cell_type": "code",
   "execution_count": 5,
   "metadata": {},
   "outputs": [
    {
     "name": "stdout",
     "output_type": "stream",
     "text": [
      "Testing on correct data\n",
      "[0]\n",
      "Testing on wrong data\n",
      "[1]\n",
      "Probability of correct data\n",
      "[[0.99198933 0.00801067]]\n",
      "Probability of wrong data\n",
      "[[0.02733292 0.97266708]]\n"
     ]
    }
   ],
   "source": [
    "Load_SVM_Model = pickle.load(open('SVM.sav', 'rb'))\n",
    "print(\"Testing on correct data\")\n",
    "print(Load_SVM_Model.predict(correct_data))\n",
    "print(\"Testing on wrong data\")\n",
    "print(Load_SVM_Model.predict(wrong_data))\n",
    "print(\"Probability of correct data\")\n",
    "SVM_pred_probability = Load_SVM_Model.predict_proba(correct_data)\n",
    "print(SVM_pred_probability)\n",
    "print(\"Probability of wrong data\")\n",
    "SVM_pred_probability = Load_SVM_Model.predict_proba(wrong_data)\n",
    "print(SVM_pred_probability)"
   ]
  },
  {
   "attachments": {},
   "cell_type": "markdown",
   "metadata": {},
   "source": [
    "## Probability Score combination"
   ]
  },
  {
   "cell_type": "code",
   "execution_count": 6,
   "metadata": {},
   "outputs": [
    {
     "name": "stdout",
     "output_type": "stream",
     "text": [
      "Total probability of correct data\n",
      "[[0.90096726 0.09903274]]\n",
      "Total probability of wrong data\n",
      "[[0.10664974 0.89335026]]\n"
     ]
    }
   ],
   "source": [
    "RF_weight = 0.26829268292682923\n",
    "DT_weight = 0.26829268292682923\n",
    "SVM_weight = 0.26829268292682923\n",
    "LR_weight = 0.19512195121951217\n",
    "\n",
    "RF_pred_probability = Load_RF_Model.predict_proba(correct_data)\n",
    "DT_pred_probability = Load_DT_Model.predict_proba(correct_data)\n",
    "LR_pred_probability = Load_LR_Model.predict_proba(correct_data)\n",
    "SVM_pred_probability = Load_SVM_Model.predict_proba(correct_data)\n",
    "\n",
    "total_probability = RF_weight*RF_pred_probability + DT_weight*DT_pred_probability + LR_weight*LR_pred_probability + SVM_weight*SVM_pred_probability\n",
    "\n",
    "print(\"Total probability of correct data\")\n",
    "print(total_probability)\n",
    "\n",
    "RF_pred_probability = Load_RF_Model.predict_proba(wrong_data)\n",
    "DT_pred_probability = Load_DT_Model.predict_proba(wrong_data)\n",
    "LR_pred_probability = Load_LR_Model.predict_proba(wrong_data)\n",
    "SVM_pred_probability = Load_SVM_Model.predict_proba(wrong_data)\n",
    "\n",
    "total_probability = RF_weight*RF_pred_probability + DT_weight*DT_pred_probability + LR_weight*LR_pred_probability + SVM_weight*SVM_pred_probability\n",
    "\n",
    "print(\"Total probability of wrong data\")\n",
    "print(total_probability)"
   ]
  }
 ],
 "metadata": {
  "kernelspec": {
   "display_name": "Python 3",
   "language": "python",
   "name": "python3"
  },
  "language_info": {
   "codemirror_mode": {
    "name": "ipython",
    "version": 3
   },
   "file_extension": ".py",
   "mimetype": "text/x-python",
   "name": "python",
   "nbconvert_exporter": "python",
   "pygments_lexer": "ipython3",
   "version": "3.10.6"
  },
  "orig_nbformat": 4,
  "vscode": {
   "interpreter": {
    "hash": "916dbcbb3f70747c44a77c7bcd40155683ae19c65e1c03b4aa3499c5328201f1"
   }
  }
 },
 "nbformat": 4,
 "nbformat_minor": 2
}
