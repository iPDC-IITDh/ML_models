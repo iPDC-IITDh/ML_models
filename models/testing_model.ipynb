{
 "cells": [
  {
   "cell_type": "code",
   "execution_count": 46,
   "metadata": {},
   "outputs": [],
   "source": [
    "import pickle\n",
    "correct_data = [[-95.0310743232,134161.730967817,144.6209026086,202.1741503424,24.7951722724,201.0948560874,50.0033798218,-0.0014368678,97.1672668457,11.7199020386]]\n",
    "wrong_data = [[-106.79673404338052,134178.87839460734,172.30595900709102,201.74303304189772,12.907951242933958,201.67851490812342,50.00347049261338,-0.0022273429394054807,97.13682621832879,11.756140557239803]]"
   ]
  },
  {
   "attachments": {},
   "cell_type": "markdown",
   "metadata": {},
   "source": [
    "## Random Forest"
   ]
  },
  {
   "cell_type": "code",
   "execution_count": 47,
   "metadata": {},
   "outputs": [
    {
     "name": "stdout",
     "output_type": "stream",
     "text": [
      "Testing on correct data\n",
      "[0]\n",
      "Testing on wrong data\n",
      "[1]\n",
      "Probability of correct data\n",
      "[[1. 0.]]\n",
      "Probability of wrong data\n",
      "[[0. 1.]]\n"
     ]
    }
   ],
   "source": [
    "Load_RF_Model = pickle.load(open('RF.sav', 'rb'))\n",
    "print(\"Testing on correct data\")\n",
    "print(Load_RF_Model.predict(correct_data))\n",
    "print(\"Testing on wrong data\")\n",
    "print(Load_RF_Model.predict(wrong_data))\n",
    "print(\"Probability of correct data\")\n",
    "RF_pred_probability = Load_RF_Model.predict_proba(correct_data)\n",
    "print(RF_pred_probability)\n",
    "print(\"Probability of wrong data\")\n",
    "RF_pred_probability = Load_RF_Model.predict_proba(wrong_data)\n",
    "print(RF_pred_probability)\n"
   ]
  },
  {
   "attachments": {},
   "cell_type": "markdown",
   "metadata": {},
   "source": [
    "## Decision Tree"
   ]
  },
  {
   "cell_type": "code",
   "execution_count": 48,
   "metadata": {},
   "outputs": [
    {
     "name": "stdout",
     "output_type": "stream",
     "text": [
      "Testing on correct data\n",
      "[0]\n",
      "Testing on wrong data\n",
      "[1]\n",
      "Probability of correct data\n",
      "[[1. 0.]]\n",
      "Probability of wrong data\n",
      "[[0. 1.]]\n"
     ]
    }
   ],
   "source": [
    "Load_DT_Model = pickle.load(open('DT.sav', 'rb'))\n",
    "print(\"Testing on correct data\")\n",
    "print(Load_DT_Model.predict(correct_data))\n",
    "print(\"Testing on wrong data\")\n",
    "print(Load_DT_Model.predict(wrong_data))\n",
    "print(\"Probability of correct data\")\n",
    "DT_pred_probability = Load_DT_Model.predict_proba(correct_data)\n",
    "print(DT_pred_probability)\n",
    "print(\"Probability of wrong data\")\n",
    "DT_pred_probability = Load_DT_Model.predict_proba(wrong_data)\n",
    "print(DT_pred_probability)"
   ]
  },
  {
   "attachments": {},
   "cell_type": "markdown",
   "metadata": {},
   "source": [
    "## Logistic Regression"
   ]
  },
  {
   "cell_type": "code",
   "execution_count": 49,
   "metadata": {},
   "outputs": [
    {
     "name": "stdout",
     "output_type": "stream",
     "text": [
      "Testing on correct data\n",
      "[1]\n",
      "Testing on wrong data\n",
      "[1]\n",
      "Probability of correct data\n",
      "[[0.49250815 0.50749185]]\n",
      "Probability of wrong data\n",
      "[[0.46932209 0.53067791]]\n"
     ]
    }
   ],
   "source": [
    "Load_LR_Model = pickle.load(open('LR.sav', 'rb'))\n",
    "print(\"Testing on correct data\")\n",
    "print(Load_LR_Model.predict(correct_data))\n",
    "print(\"Testing on wrong data\")\n",
    "print(Load_LR_Model.predict(wrong_data))\n",
    "print(\"Probability of correct data\")\n",
    "LR_pred_probability = Load_LR_Model.predict_proba(correct_data)\n",
    "print(LR_pred_probability)\n",
    "print(\"Probability of wrong data\")\n",
    "LR_pred_probability = Load_LR_Model.predict_proba(wrong_data)\n",
    "print(LR_pred_probability)"
   ]
  },
  {
   "attachments": {},
   "cell_type": "markdown",
   "metadata": {},
   "source": [
    "## Support Vector Machine"
   ]
  },
  {
   "cell_type": "code",
   "execution_count": 50,
   "metadata": {},
   "outputs": [
    {
     "name": "stdout",
     "output_type": "stream",
     "text": [
      "Testing on correct data\n",
      "[0]\n",
      "Testing on wrong data\n",
      "[1]\n",
      "Probability of correct data\n",
      "[[0.99215756 0.00784244]]\n",
      "Probability of wrong data\n",
      "[[0.02240045 0.97759955]]\n"
     ]
    }
   ],
   "source": [
    "Load_SVM_Model = pickle.load(open('SVM.sav', 'rb'))\n",
    "print(\"Testing on correct data\")\n",
    "print(Load_SVM_Model.predict(correct_data))\n",
    "print(\"Testing on wrong data\")\n",
    "print(Load_SVM_Model.predict(wrong_data))\n",
    "print(\"Probability of correct data\")\n",
    "SVM_pred_probability = Load_SVM_Model.predict_proba(correct_data)\n",
    "print(SVM_pred_probability)\n",
    "print(\"Probability of wrong data\")\n",
    "SVM_pred_probability = Load_SVM_Model.predict_proba(wrong_data)\n",
    "print(SVM_pred_probability)"
   ]
  },
  {
   "attachments": {},
   "cell_type": "markdown",
   "metadata": {},
   "source": [
    "## Probability Score combination"
   ]
  },
  {
   "cell_type": "code",
   "execution_count": 51,
   "metadata": {},
   "outputs": [
    {
     "name": "stdout",
     "output_type": "stream",
     "text": [
      "Total probability of correct data\n",
      "[[0.87116643 0.12883357]]\n",
      "Total probability of wrong data\n",
      "[[0.12293064 0.87706936]]\n"
     ]
    }
   ],
   "source": [
    "RF_weight = 0.25\n",
    "DT_weight = 0.25\n",
    "LR_weight = 0.25\n",
    "SVM_weight = 0.25\n",
    "\n",
    "RF_pred_probability = Load_RF_Model.predict_proba(correct_data)\n",
    "DT_pred_probability = Load_DT_Model.predict_proba(correct_data)\n",
    "LR_pred_probability = Load_LR_Model.predict_proba(correct_data)\n",
    "SVM_pred_probability = Load_SVM_Model.predict_proba(correct_data)\n",
    "\n",
    "total_probability = RF_weight*RF_pred_probability + DT_weight*DT_pred_probability + LR_weight*LR_pred_probability + SVM_weight*SVM_pred_probability\n",
    "\n",
    "print(\"Total probability of correct data\")\n",
    "print(total_probability)\n",
    "\n",
    "RF_pred_probability = Load_RF_Model.predict_proba(wrong_data)\n",
    "DT_pred_probability = Load_DT_Model.predict_proba(wrong_data)\n",
    "LR_pred_probability = Load_LR_Model.predict_proba(wrong_data)\n",
    "SVM_pred_probability = Load_SVM_Model.predict_proba(wrong_data)\n",
    "\n",
    "total_probability = RF_weight*RF_pred_probability + DT_weight*DT_pred_probability + LR_weight*LR_pred_probability + SVM_weight*SVM_pred_probability\n",
    "\n",
    "print(\"Total probability of wrong data\")\n",
    "print(total_probability)"
   ]
  }
 ],
 "metadata": {
  "kernelspec": {
   "display_name": "Python 3",
   "language": "python",
   "name": "python3"
  },
  "language_info": {
   "codemirror_mode": {
    "name": "ipython",
    "version": 3
   },
   "file_extension": ".py",
   "mimetype": "text/x-python",
   "name": "python",
   "nbconvert_exporter": "python",
   "pygments_lexer": "ipython3",
   "version": "3.10.6"
  },
  "orig_nbformat": 4,
  "vscode": {
   "interpreter": {
    "hash": "916dbcbb3f70747c44a77c7bcd40155683ae19c65e1c03b4aa3499c5328201f1"
   }
  }
 },
 "nbformat": 4,
 "nbformat_minor": 2
}
